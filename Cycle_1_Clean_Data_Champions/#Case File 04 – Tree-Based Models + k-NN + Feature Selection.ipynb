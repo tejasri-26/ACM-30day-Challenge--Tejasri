{
  "nbformat": 4,
  "nbformat_minor": 0,
  "metadata": {
    "colab": {
      "provenance": [],
      "toc_visible": true
    },
    "kernelspec": {
      "name": "python3",
      "display_name": "Python 3"
    },
    "language_info": {
      "name": "python"
    }
  },
  "cells": [
    {
      "cell_type": "code",
      "execution_count": null,
      "metadata": {
        "colab": {
          "base_uri": "https://localhost:8080/",
          "height": 74
        },
        "id": "OG8ME8UMVs81",
        "outputId": "cf46d043-25c1-4ab1-a073-c9de993d69fc"
      },
      "outputs": [
        {
          "output_type": "display_data",
          "data": {
            "text/plain": [
              "<IPython.core.display.HTML object>"
            ],
            "text/html": [
              "\n",
              "     <input type=\"file\" id=\"files-722f2638-55f3-4dad-a548-adf60b7a78ba\" name=\"files[]\" multiple disabled\n",
              "        style=\"border:none\" />\n",
              "     <output id=\"result-722f2638-55f3-4dad-a548-adf60b7a78ba\">\n",
              "      Upload widget is only available when the cell has been executed in the\n",
              "      current browser session. Please rerun this cell to enable.\n",
              "      </output>\n",
              "      <script>// Copyright 2017 Google LLC\n",
              "//\n",
              "// Licensed under the Apache License, Version 2.0 (the \"License\");\n",
              "// you may not use this file except in compliance with the License.\n",
              "// You may obtain a copy of the License at\n",
              "//\n",
              "//      http://www.apache.org/licenses/LICENSE-2.0\n",
              "//\n",
              "// Unless required by applicable law or agreed to in writing, software\n",
              "// distributed under the License is distributed on an \"AS IS\" BASIS,\n",
              "// WITHOUT WARRANTIES OR CONDITIONS OF ANY KIND, either express or implied.\n",
              "// See the License for the specific language governing permissions and\n",
              "// limitations under the License.\n",
              "\n",
              "/**\n",
              " * @fileoverview Helpers for google.colab Python module.\n",
              " */\n",
              "(function(scope) {\n",
              "function span(text, styleAttributes = {}) {\n",
              "  const element = document.createElement('span');\n",
              "  element.textContent = text;\n",
              "  for (const key of Object.keys(styleAttributes)) {\n",
              "    element.style[key] = styleAttributes[key];\n",
              "  }\n",
              "  return element;\n",
              "}\n",
              "\n",
              "// Max number of bytes which will be uploaded at a time.\n",
              "const MAX_PAYLOAD_SIZE = 100 * 1024;\n",
              "\n",
              "function _uploadFiles(inputId, outputId) {\n",
              "  const steps = uploadFilesStep(inputId, outputId);\n",
              "  const outputElement = document.getElementById(outputId);\n",
              "  // Cache steps on the outputElement to make it available for the next call\n",
              "  // to uploadFilesContinue from Python.\n",
              "  outputElement.steps = steps;\n",
              "\n",
              "  return _uploadFilesContinue(outputId);\n",
              "}\n",
              "\n",
              "// This is roughly an async generator (not supported in the browser yet),\n",
              "// where there are multiple asynchronous steps and the Python side is going\n",
              "// to poll for completion of each step.\n",
              "// This uses a Promise to block the python side on completion of each step,\n",
              "// then passes the result of the previous step as the input to the next step.\n",
              "function _uploadFilesContinue(outputId) {\n",
              "  const outputElement = document.getElementById(outputId);\n",
              "  const steps = outputElement.steps;\n",
              "\n",
              "  const next = steps.next(outputElement.lastPromiseValue);\n",
              "  return Promise.resolve(next.value.promise).then((value) => {\n",
              "    // Cache the last promise value to make it available to the next\n",
              "    // step of the generator.\n",
              "    outputElement.lastPromiseValue = value;\n",
              "    return next.value.response;\n",
              "  });\n",
              "}\n",
              "\n",
              "/**\n",
              " * Generator function which is called between each async step of the upload\n",
              " * process.\n",
              " * @param {string} inputId Element ID of the input file picker element.\n",
              " * @param {string} outputId Element ID of the output display.\n",
              " * @return {!Iterable<!Object>} Iterable of next steps.\n",
              " */\n",
              "function* uploadFilesStep(inputId, outputId) {\n",
              "  const inputElement = document.getElementById(inputId);\n",
              "  inputElement.disabled = false;\n",
              "\n",
              "  const outputElement = document.getElementById(outputId);\n",
              "  outputElement.innerHTML = '';\n",
              "\n",
              "  const pickedPromise = new Promise((resolve) => {\n",
              "    inputElement.addEventListener('change', (e) => {\n",
              "      resolve(e.target.files);\n",
              "    });\n",
              "  });\n",
              "\n",
              "  const cancel = document.createElement('button');\n",
              "  inputElement.parentElement.appendChild(cancel);\n",
              "  cancel.textContent = 'Cancel upload';\n",
              "  const cancelPromise = new Promise((resolve) => {\n",
              "    cancel.onclick = () => {\n",
              "      resolve(null);\n",
              "    };\n",
              "  });\n",
              "\n",
              "  // Wait for the user to pick the files.\n",
              "  const files = yield {\n",
              "    promise: Promise.race([pickedPromise, cancelPromise]),\n",
              "    response: {\n",
              "      action: 'starting',\n",
              "    }\n",
              "  };\n",
              "\n",
              "  cancel.remove();\n",
              "\n",
              "  // Disable the input element since further picks are not allowed.\n",
              "  inputElement.disabled = true;\n",
              "\n",
              "  if (!files) {\n",
              "    return {\n",
              "      response: {\n",
              "        action: 'complete',\n",
              "      }\n",
              "    };\n",
              "  }\n",
              "\n",
              "  for (const file of files) {\n",
              "    const li = document.createElement('li');\n",
              "    li.append(span(file.name, {fontWeight: 'bold'}));\n",
              "    li.append(span(\n",
              "        `(${file.type || 'n/a'}) - ${file.size} bytes, ` +\n",
              "        `last modified: ${\n",
              "            file.lastModifiedDate ? file.lastModifiedDate.toLocaleDateString() :\n",
              "                                    'n/a'} - `));\n",
              "    const percent = span('0% done');\n",
              "    li.appendChild(percent);\n",
              "\n",
              "    outputElement.appendChild(li);\n",
              "\n",
              "    const fileDataPromise = new Promise((resolve) => {\n",
              "      const reader = new FileReader();\n",
              "      reader.onload = (e) => {\n",
              "        resolve(e.target.result);\n",
              "      };\n",
              "      reader.readAsArrayBuffer(file);\n",
              "    });\n",
              "    // Wait for the data to be ready.\n",
              "    let fileData = yield {\n",
              "      promise: fileDataPromise,\n",
              "      response: {\n",
              "        action: 'continue',\n",
              "      }\n",
              "    };\n",
              "\n",
              "    // Use a chunked sending to avoid message size limits. See b/62115660.\n",
              "    let position = 0;\n",
              "    do {\n",
              "      const length = Math.min(fileData.byteLength - position, MAX_PAYLOAD_SIZE);\n",
              "      const chunk = new Uint8Array(fileData, position, length);\n",
              "      position += length;\n",
              "\n",
              "      const base64 = btoa(String.fromCharCode.apply(null, chunk));\n",
              "      yield {\n",
              "        response: {\n",
              "          action: 'append',\n",
              "          file: file.name,\n",
              "          data: base64,\n",
              "        },\n",
              "      };\n",
              "\n",
              "      let percentDone = fileData.byteLength === 0 ?\n",
              "          100 :\n",
              "          Math.round((position / fileData.byteLength) * 100);\n",
              "      percent.textContent = `${percentDone}% done`;\n",
              "\n",
              "    } while (position < fileData.byteLength);\n",
              "  }\n",
              "\n",
              "  // All done.\n",
              "  yield {\n",
              "    response: {\n",
              "      action: 'complete',\n",
              "    }\n",
              "  };\n",
              "}\n",
              "\n",
              "scope.google = scope.google || {};\n",
              "scope.google.colab = scope.google.colab || {};\n",
              "scope.google.colab._files = {\n",
              "  _uploadFiles,\n",
              "  _uploadFilesContinue,\n",
              "};\n",
              "})(self);\n",
              "</script> "
            ]
          },
          "metadata": {}
        },
        {
          "output_type": "stream",
          "name": "stdout",
          "text": [
            "Saving mental_health_workplace_survey.csv to mental_health_workplace_survey.csv\n"
          ]
        }
      ],
      "source": [
        "from google.colab import files\n",
        "uploaded = files.upload()"
      ]
    },
    {
      "cell_type": "code",
      "source": [
        "import pandas as pd\n",
        "from sklearn.preprocessing import LabelEncoder\n",
        "from sklearn.preprocessing import StandardScaler\n",
        "from sklearn.model_selection import train_test_split\n",
        "from sklearn.tree import DecisionTreeClassifier\n",
        "from sklearn.ensemble import RandomForestClassifier\n",
        "from sklearn.neighbors import KNeighborsClassifier\n",
        "from sklearn.metrics import accuracy_score\n",
        "import matplotlib.pyplot as plt\n",
        "import seaborn as sns\n",
        "df = pd.read_csv('mental_health_workplace_survey.csv')\n",
        "print(df.shape)\n",
        "print(df.info())\n",
        "print(df.head())"
      ],
      "metadata": {
        "id": "ZyUEHG8iWFV9",
        "colab": {
          "base_uri": "https://localhost:8080/"
        },
        "outputId": "ea034d0c-d230-481c-c8d3-ed2d1c812937"
      },
      "execution_count": null,
      "outputs": [
        {
          "output_type": "stream",
          "name": "stdout",
          "text": [
            "(3000, 25)\n",
            "<class 'pandas.core.frame.DataFrame'>\n",
            "RangeIndex: 3000 entries, 0 to 2999\n",
            "Data columns (total 25 columns):\n",
            " #   Column                  Non-Null Count  Dtype  \n",
            "---  ------                  --------------  -----  \n",
            " 0   EmployeeID              3000 non-null   int64  \n",
            " 1   Age                     3000 non-null   int64  \n",
            " 2   Gender                  3000 non-null   object \n",
            " 3   Country                 3000 non-null   object \n",
            " 4   JobRole                 3000 non-null   object \n",
            " 5   Department              3000 non-null   object \n",
            " 6   YearsAtCompany          3000 non-null   int64  \n",
            " 7   WorkHoursPerWeek        3000 non-null   int64  \n",
            " 8   RemoteWork              3000 non-null   object \n",
            " 9   BurnoutLevel            3000 non-null   float64\n",
            " 10  JobSatisfaction         3000 non-null   float64\n",
            " 11  StressLevel             3000 non-null   float64\n",
            " 12  ProductivityScore       3000 non-null   float64\n",
            " 13  SleepHours              3000 non-null   float64\n",
            " 14  PhysicalActivityHrs     3000 non-null   float64\n",
            " 15  CommuteTime             3000 non-null   int64  \n",
            " 16  HasMentalHealthSupport  3000 non-null   object \n",
            " 17  ManagerSupportScore     3000 non-null   float64\n",
            " 18  HasTherapyAccess        3000 non-null   object \n",
            " 19  MentalHealthDaysOff     3000 non-null   int64  \n",
            " 20  SalaryRange             3000 non-null   object \n",
            " 21  WorkLifeBalanceScore    3000 non-null   float64\n",
            " 22  TeamSize                3000 non-null   int64  \n",
            " 23  CareerGrowthScore       3000 non-null   float64\n",
            " 24  BurnoutRisk             3000 non-null   int64  \n",
            "dtypes: float64(9), int64(8), object(8)\n",
            "memory usage: 586.1+ KB\n",
            "None\n",
            "   EmployeeID  Age      Gender    Country            JobRole Department  \\\n",
            "0        1001   50        Male         UK    Sales Associate         HR   \n",
            "1        1002   36        Male    Germany  Software Engineer         IT   \n",
            "2        1003   29  Non-binary      India           IT Admin         IT   \n",
            "3        1004   42        Male  Australia      HR Specialist         IT   \n",
            "4        1005   40        Male     Brazil   Customer Support    Support   \n",
            "\n",
            "   YearsAtCompany  WorkHoursPerWeek RemoteWork  BurnoutLevel  ...  \\\n",
            "0              14                47         No          3.37  ...   \n",
            "1               1                59     Hybrid          7.39  ...   \n",
            "2              13                59     Hybrid          7.10  ...   \n",
            "3              15                31        Yes          4.18  ...   \n",
            "4               6                34        Yes          8.28  ...   \n",
            "\n",
            "   CommuteTime  HasMentalHealthSupport  ManagerSupportScore  HasTherapyAccess  \\\n",
            "0          117                      No                 3.15               Yes   \n",
            "1            8                     Yes                 4.40               Yes   \n",
            "2           75                      No                 3.63                No   \n",
            "3           43                     Yes                 4.50               Yes   \n",
            "4           58                     Yes                 5.51               Yes   \n",
            "\n",
            "   MentalHealthDaysOff  SalaryRange WorkLifeBalanceScore  TeamSize  \\\n",
            "0                    8      40K-60K                 8.82         6   \n",
            "1                    4     80K-100K                 2.80        45   \n",
            "2                    6     80K-100K                 7.28         7   \n",
            "3                    9      60K-80K                 1.31        11   \n",
            "4                    6         <40K                 1.17        18   \n",
            "\n",
            "  CareerGrowthScore  BurnoutRisk  \n",
            "0              9.20            0  \n",
            "1              8.46            1  \n",
            "2              7.96            1  \n",
            "3              8.90            0  \n",
            "4              8.88            1  \n",
            "\n",
            "[5 rows x 25 columns]\n"
          ]
        }
      ]
    },
    {
      "cell_type": "code",
      "source": [
        "df.dropna(inplace=True)\n",
        "print(df.isnull().sum())"
      ],
      "metadata": {
        "colab": {
          "base_uri": "https://localhost:8080/"
        },
        "id": "SM0l7q1yaHjx",
        "outputId": "4704816d-89ad-489f-c3cd-aa61c90e0d97"
      },
      "execution_count": null,
      "outputs": [
        {
          "output_type": "stream",
          "name": "stdout",
          "text": [
            "EmployeeID                0\n",
            "Age                       0\n",
            "Gender                    0\n",
            "Country                   0\n",
            "JobRole                   0\n",
            "Department                0\n",
            "YearsAtCompany            0\n",
            "WorkHoursPerWeek          0\n",
            "RemoteWork                0\n",
            "BurnoutLevel              0\n",
            "JobSatisfaction           0\n",
            "StressLevel               0\n",
            "ProductivityScore         0\n",
            "SleepHours                0\n",
            "PhysicalActivityHrs       0\n",
            "CommuteTime               0\n",
            "HasMentalHealthSupport    0\n",
            "ManagerSupportScore       0\n",
            "HasTherapyAccess          0\n",
            "MentalHealthDaysOff       0\n",
            "SalaryRange               0\n",
            "WorkLifeBalanceScore      0\n",
            "TeamSize                  0\n",
            "CareerGrowthScore         0\n",
            "BurnoutRisk               0\n",
            "dtype: int64\n"
          ]
        }
      ]
    },
    {
      "cell_type": "code",
      "source": [
        "cat_cols = df.select_dtypes(include='object').columns\n",
        "le = LabelEncoder()\n",
        "for col in cat_cols:\n",
        "    df[col] = le.fit_transform(df[col])"
      ],
      "metadata": {
        "id": "nWpgRr5Ib30n"
      },
      "execution_count": null,
      "outputs": []
    },
    {
      "cell_type": "code",
      "source": [
        "scaler = StandardScaler()\n",
        "X = df.drop('BurnoutRisk', axis=1)\n",
        "y = df['BurnoutRisk']\n",
        "X_scaled = scaler.fit_transform(X)"
      ],
      "metadata": {
        "id": "pTBpK_9Hb6M1"
      },
      "execution_count": null,
      "outputs": []
    },
    {
      "cell_type": "code",
      "source": [
        "X_train, X_test, y_train, y_test = train_test_split(X_scaled, y, test_size=0.2, random_state=42)\n",
        "dt = DecisionTreeClassifier()\n",
        "rf = RandomForestClassifier()\n",
        "knn = KNeighborsClassifier()\n",
        "dt.fit(X_train, y_train)\n",
        "rf.fit(X_train, y_train)\n",
        "knn.fit(X_train, y_train)\n",
        "for model, name in zip([dt, rf, knn], ['Decision Tree', 'Random Forest', 'KNN']):\n",
        "    y_pred = model.predict(X_test)\n",
        "    acc = accuracy_score(y_test, y_pred)\n",
        "    print(f\"{name} Accuracy: {acc:.2f}\")"
      ],
      "metadata": {
        "colab": {
          "base_uri": "https://localhost:8080/"
        },
        "id": "sB8AAUSzddTM",
        "outputId": "9d2901e8-37e7-4d8c-f608-ed5b773600b4"
      },
      "execution_count": null,
      "outputs": [
        {
          "output_type": "stream",
          "name": "stdout",
          "text": [
            "Decision Tree Accuracy: 1.00\n",
            "Random Forest Accuracy: 1.00\n",
            "KNN Accuracy: 0.81\n"
          ]
        }
      ]
    },
    {
      "cell_type": "code",
      "source": [
        "importances = rf.feature_importances_\n",
        "feat_names = X.columns\n",
        "feat_imp = pd.Series(importances, index=feat_names).sort_values(ascending=False)\n",
        "plt.figure(figsize=(10,6))\n",
        "sns.barplot(x=feat_imp, y=feat_imp.index)\n",
        "plt.title(\"Feature Importances from Random Forest\")\n",
        "plt.show()"
      ],
      "metadata": {
        "colab": {
          "base_uri": "https://localhost:8080/",
          "height": 564
        },
        "id": "RA8zV4r_dja2",
        "outputId": "132eca1e-ac55-465b-cb94-189531eda507"
      },
      "execution_count": null,
      "outputs": [
        {
          "output_type": "display_data",
          "data": {
            "text/plain": [
              "<Figure size 1000x600 with 1 Axes>"
            ],
            "image/png": "[encoded data removed]"
          },
          "metadata": {}
        }
      ]
    },
    {
      "cell_type": "code",
      "source": [
        "important_feats = feat_imp[feat_imp > 0.01].index\n",
        "X_selected = df[important_feats]\n",
        "X_selected_scaled = scaler.fit_transform(X_selected)\n",
        "X_train_sel, X_test_sel, y_train_sel, y_test_sel = train_test_split(X_selected_scaled, y, test_size=0.2, random_state=42)"
      ],
      "metadata": {
        "id": "T46gq4v8dmiW"
      },
      "execution_count": null,
      "outputs": []
    },
    {
      "cell_type": "code",
      "source": [
        "for model, name in zip([dt, rf, knn], ['Decision Tree', 'Random Forest', 'KNN']):\n",
        "    model.fit(X_train_sel, y_train_sel)\n",
        "    y_pred_sel = model.predict(X_test_sel)\n",
        "    acc_sel = accuracy_score(y_test_sel, y_pred_sel)\n",
        "    print(f\"{name} Accuracy after feature selection: {acc_sel:.2f}\")"
      ],
      "metadata": {
        "colab": {
          "base_uri": "https://localhost:8080/"
        },
        "id": "0AAgkVysdpLX",
        "outputId": "da49ac03-2428-48ef-bbd0-2fe5ba1b22db"
      },
      "execution_count": null,
      "outputs": [
        {
          "output_type": "stream",
          "name": "stdout",
          "text": [
            "Decision Tree Accuracy after feature selection: 1.00\n",
            "Random Forest Accuracy after feature selection: 1.00\n",
            "KNN Accuracy after feature selection: 0.91\n"
          ]
        }
      ]
    }
  ]
}